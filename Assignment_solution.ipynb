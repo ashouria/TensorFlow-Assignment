{
  "nbformat": 4,
  "nbformat_minor": 0,
  "metadata": {
    "colab": {
      "name": "Assignment.ipynb",
      "version": "0.3.2",
      "provenance": [],
      "collapsed_sections": []
    },
    "kernelspec": {
      "name": "python3",
      "display_name": "Python 3"
    }
  },
  "cells": [
    {
      "metadata": {
        "id": "FV7Rp66WVPkW",
        "colab_type": "text"
      },
      "cell_type": "markdown",
      "source": [
        "## Assignment - Classification od FMNIST dataset using ANN\n",
        "\n",
        "Student: Araz Ashouri\n",
        "\n",
        "Date: 2019-02-06"
      ]
    },
    {
      "metadata": {
        "id": "WUsZXBBfVezJ",
        "colab_type": "code",
        "colab": {}
      },
      "cell_type": "code",
      "source": [
        "# Loading libraries\n",
        "import tensorflow as tf\n",
        "import numpy as np\n",
        "import matplotlib.pyplot as plt"
      ],
      "execution_count": 0,
      "outputs": []
    },
    {
      "metadata": {
        "id": "FpuF6KycWiea",
        "colab_type": "code",
        "colab": {}
      },
      "cell_type": "code",
      "source": [
        "# Loading data\n",
        "fmnist = tf.keras.datasets.fashion_mnist\n",
        "(train_images, train_labels),(test_images, test_labels) = fmnist.load_data()\n",
        "\n",
        "# Label description\n",
        "labels_description = [\"T-shirt/top\",\n",
        "                      \"Trouser\",\n",
        "                      \"Pullover\",\n",
        "                      \"Dress\",\n",
        "                      \"Coat\",\n",
        "                      \"Sandal\",\n",
        "                      \"Shirt\",\n",
        "                      \"Sneaker\",\n",
        "                      \"Bag\",\n",
        "                      \"Ankle boot\",]"
      ],
      "execution_count": 0,
      "outputs": []
    },
    {
      "metadata": {
        "id": "ceb7v6vk5Qrz",
        "colab_type": "code",
        "colab": {}
      },
      "cell_type": "code",
      "source": [
        "# Plotting one image (title shows the label)\n",
        "plt.figure()\n",
        "plt.imshow(train_images[1337])\n",
        "plt.title(labels_description[train_labels[1337]])\n",
        "plt.grid(False)"
      ],
      "execution_count": 0,
      "outputs": []
    },
    {
      "metadata": {
        "id": "vLjODdXS6RqC",
        "colab_type": "code",
        "colab": {}
      },
      "cell_type": "code",
      "source": [
        "# Normalizing between 0 and 1.\n",
        "train_images, test_images = train_images/255.0 , test_images/255.0"
      ],
      "execution_count": 0,
      "outputs": []
    },
    {
      "metadata": {
        "id": "ZI3-5KpFXDNR",
        "colab_type": "code",
        "colab": {}
      },
      "cell_type": "code",
      "source": [
        "# Building the ANN model\n",
        "model = tf.keras.models.Sequential([\n",
        "  tf.keras.layers.Flatten(), \n",
        "  tf.keras.layers.Dense(256, activation = 'relu'),\n",
        "  tf.keras.layers.Dropout(0.01),\n",
        "  tf.keras.layers.Dense(256, activation = 'relu'),\n",
        "  tf.keras.layers.Dropout(0.01),\n",
        "  tf.keras.layers.Dense(10, activation = 'softmax')\n",
        "])\n",
        "model.compile(optimizer='adam',\n",
        "              loss='sparse_categorical_crossentropy',\n",
        "              metrics=['accuracy'])"
      ],
      "execution_count": 0,
      "outputs": []
    },
    {
      "metadata": {
        "id": "Tzy9XC8qYlht",
        "colab_type": "code",
        "colab": {}
      },
      "cell_type": "code",
      "source": [
        "# Training the model\n",
        "model.fit(train_images, train_labels, epochs=3)"
      ],
      "execution_count": 0,
      "outputs": []
    },
    {
      "metadata": {
        "id": "DnbpxU4nZpaa",
        "colab_type": "code",
        "colab": {}
      },
      "cell_type": "code",
      "source": [
        "# Evaluate the model\n",
        "model.evaluate(test_images,test_labels)"
      ],
      "execution_count": 0,
      "outputs": []
    },
    {
      "metadata": {
        "id": "vr_MzbUK8AXo",
        "colab_type": "code",
        "colab": {}
      },
      "cell_type": "code",
      "source": [
        "# Checking a test image (title shows the label)\n",
        "i = 0\n",
        "plt.figure()\n",
        "plt.imshow(test_images[i])\n",
        "plt.title(labels_description[test_labels[i]])\n",
        "plt.grid(False)"
      ],
      "execution_count": 0,
      "outputs": []
    },
    {
      "metadata": {
        "id": "GxUJ0U_K8fys",
        "colab_type": "code",
        "colab": {}
      },
      "cell_type": "code",
      "source": [
        "# Predicting test labels using the model\n",
        "predictions = model.predict(test_images)\n"
      ],
      "execution_count": 0,
      "outputs": []
    },
    {
      "metadata": {
        "id": "bWXsP3zt2ih0",
        "colab_type": "code",
        "colab": {}
      },
      "cell_type": "code",
      "source": [
        "# Checking a test label probabilities\n",
        "predictions[0]"
      ],
      "execution_count": 0,
      "outputs": []
    },
    {
      "metadata": {
        "id": "cgLCiyn72kFt",
        "colab_type": "code",
        "colab": {}
      },
      "cell_type": "code",
      "source": [
        "# Identifying the actual label and its description\n",
        "print(np.argmax(predictions[0]))\n",
        "print(labels_description[np.argmax(predictions[0])])"
      ],
      "execution_count": 0,
      "outputs": []
    }
  ]
}